{
 "cells": [
  {
   "cell_type": "code",
   "execution_count": 1,
   "metadata": {},
   "outputs": [],
   "source": [
    "import polars as pl\n",
    "from fitdb.profile import FitDBProfile"
   ]
  },
  {
   "cell_type": "code",
   "execution_count": 2,
   "metadata": {},
   "outputs": [
    {
     "data": {
      "text/html": [
       "<div><style>\n",
       ".dataframe > thead > tr > th,\n",
       ".dataframe > tbody > tr > td {\n",
       "  text-align: right;\n",
       "}\n",
       "</style>\n",
       "<small>shape: (24, 12)</small><table border=\"1\" class=\"dataframe\"><thead><tr><th>num</th><th>name</th><th>type</th><th>is_array</th><th>scale</th><th>offset</th><th>units</th><th>bits</th><th>components</th><th>is_accumulated</th><th>has_components</th><th>message_num</th></tr><tr><td>i64</td><td>str</td><td>str</td><td>bool</td><td>list[i64]</td><td>list[i64]</td><td>list[str]</td><td>list[i64]</td><td>list[i64]</td><td>bool</td><td>bool</td><td>i64</td></tr></thead><tbody><tr><td>0</td><td>&quot;active_time_zo...</td><td>&quot;uint8&quot;</td><td>false</td><td>[1]</td><td>[0]</td><td>null</td><td>null</td><td>null</td><td>false</td><td>false</td><td>2</td></tr><tr><td>1</td><td>&quot;utc_offset&quot;</td><td>&quot;uint32&quot;</td><td>false</td><td>[1]</td><td>[0]</td><td>null</td><td>null</td><td>null</td><td>false</td><td>false</td><td>2</td></tr><tr><td>2</td><td>&quot;time_offset&quot;</td><td>&quot;uint32&quot;</td><td>true</td><td>[1]</td><td>[0]</td><td>[&quot;s&quot;]</td><td>null</td><td>null</td><td>false</td><td>false</td><td>2</td></tr><tr><td>4</td><td>&quot;time_mode&quot;</td><td>&quot;time_mode&quot;</td><td>true</td><td>[1]</td><td>[0]</td><td>null</td><td>null</td><td>null</td><td>false</td><td>false</td><td>2</td></tr><tr><td>5</td><td>&quot;time_zone_offs...</td><td>&quot;sint8&quot;</td><td>true</td><td>[4]</td><td>[0]</td><td>[&quot;hr&quot;]</td><td>null</td><td>null</td><td>false</td><td>false</td><td>2</td></tr><tr><td>12</td><td>&quot;backlight_mode...</td><td>&quot;backlight_mode...</td><td>false</td><td>[1]</td><td>[0]</td><td>null</td><td>null</td><td>null</td><td>false</td><td>false</td><td>2</td></tr><tr><td>36</td><td>&quot;activity_track...</td><td>&quot;bool&quot;</td><td>false</td><td>[1]</td><td>[0]</td><td>null</td><td>null</td><td>null</td><td>false</td><td>false</td><td>2</td></tr><tr><td>39</td><td>&quot;clock_time&quot;</td><td>&quot;date_time&quot;</td><td>false</td><td>[1]</td><td>[0]</td><td>null</td><td>null</td><td>null</td><td>false</td><td>false</td><td>2</td></tr><tr><td>40</td><td>&quot;pages_enabled&quot;</td><td>&quot;uint16&quot;</td><td>true</td><td>[1]</td><td>[0]</td><td>null</td><td>null</td><td>null</td><td>false</td><td>false</td><td>2</td></tr><tr><td>46</td><td>&quot;move_alert_ena...</td><td>&quot;bool&quot;</td><td>false</td><td>[1]</td><td>[0]</td><td>null</td><td>null</td><td>null</td><td>false</td><td>false</td><td>2</td></tr><tr><td>47</td><td>&quot;date_mode&quot;</td><td>&quot;date_mode&quot;</td><td>false</td><td>[1]</td><td>[0]</td><td>null</td><td>null</td><td>null</td><td>false</td><td>false</td><td>2</td></tr><tr><td>55</td><td>&quot;display_orient...</td><td>&quot;display_orient...</td><td>false</td><td>[1]</td><td>[0]</td><td>null</td><td>null</td><td>null</td><td>false</td><td>false</td><td>2</td></tr><tr><td>56</td><td>&quot;mounting_side&quot;</td><td>&quot;side&quot;</td><td>false</td><td>[1]</td><td>[0]</td><td>null</td><td>null</td><td>null</td><td>false</td><td>false</td><td>2</td></tr><tr><td>57</td><td>&quot;default_page&quot;</td><td>&quot;uint16&quot;</td><td>true</td><td>[1]</td><td>[0]</td><td>null</td><td>null</td><td>null</td><td>false</td><td>false</td><td>2</td></tr><tr><td>58</td><td>&quot;autosync_min_s...</td><td>&quot;uint16&quot;</td><td>false</td><td>[1]</td><td>[0]</td><td>[&quot;steps&quot;]</td><td>null</td><td>null</td><td>false</td><td>false</td><td>2</td></tr><tr><td>59</td><td>&quot;autosync_min_t...</td><td>&quot;uint16&quot;</td><td>false</td><td>[1]</td><td>[0]</td><td>[&quot;minutes&quot;]</td><td>null</td><td>null</td><td>false</td><td>false</td><td>2</td></tr><tr><td>80</td><td>&quot;lactate_thresh...</td><td>&quot;bool&quot;</td><td>false</td><td>[1]</td><td>[0]</td><td>null</td><td>null</td><td>null</td><td>false</td><td>false</td><td>2</td></tr><tr><td>86</td><td>&quot;ble_auto_uploa...</td><td>&quot;bool&quot;</td><td>false</td><td>[1]</td><td>[0]</td><td>null</td><td>null</td><td>null</td><td>false</td><td>false</td><td>2</td></tr><tr><td>89</td><td>&quot;auto_sync_freq...</td><td>&quot;auto_sync_freq...</td><td>false</td><td>[1]</td><td>[0]</td><td>null</td><td>null</td><td>null</td><td>false</td><td>false</td><td>2</td></tr><tr><td>90</td><td>&quot;auto_activity_...</td><td>&quot;auto_activity_...</td><td>false</td><td>[1]</td><td>[0]</td><td>null</td><td>null</td><td>null</td><td>false</td><td>false</td><td>2</td></tr><tr><td>94</td><td>&quot;number_of_scre...</td><td>&quot;uint8&quot;</td><td>false</td><td>[1]</td><td>[0]</td><td>null</td><td>null</td><td>null</td><td>false</td><td>false</td><td>2</td></tr><tr><td>95</td><td>&quot;smart_notifica...</td><td>&quot;display_orient...</td><td>false</td><td>[1]</td><td>[0]</td><td>null</td><td>null</td><td>null</td><td>false</td><td>false</td><td>2</td></tr><tr><td>134</td><td>&quot;tap_interface&quot;</td><td>&quot;switch&quot;</td><td>false</td><td>[1]</td><td>[0]</td><td>null</td><td>null</td><td>null</td><td>false</td><td>false</td><td>2</td></tr><tr><td>174</td><td>&quot;tap_sensitivit...</td><td>&quot;tap_sensitivit...</td><td>false</td><td>[1]</td><td>[0]</td><td>null</td><td>null</td><td>null</td><td>false</td><td>false</td><td>2</td></tr></tbody></table></div>"
      ],
      "text/plain": [
       "shape: (24, 12)\n",
       "┌─────┬─────────────┬────────────┬──────────┬───┬────────────┬────────────┬────────────┬───────────┐\n",
       "│ num ┆ name        ┆ type       ┆ is_array ┆ … ┆ components ┆ is_accumul ┆ has_compon ┆ message_n │\n",
       "│ --- ┆ ---         ┆ ---        ┆ ---      ┆   ┆ ---        ┆ ated       ┆ ents       ┆ um        │\n",
       "│ i64 ┆ str         ┆ str        ┆ bool     ┆   ┆ list[i64]  ┆ ---        ┆ ---        ┆ ---       │\n",
       "│     ┆             ┆            ┆          ┆   ┆            ┆ bool       ┆ bool       ┆ i64       │\n",
       "╞═════╪═════════════╪════════════╪══════════╪═══╪════════════╪════════════╪════════════╪═══════════╡\n",
       "│ 0   ┆ active_time ┆ uint8      ┆ false    ┆ … ┆ null       ┆ false      ┆ false      ┆ 2         │\n",
       "│     ┆ _zone       ┆            ┆          ┆   ┆            ┆            ┆            ┆           │\n",
       "│ 1   ┆ utc_offset  ┆ uint32     ┆ false    ┆ … ┆ null       ┆ false      ┆ false      ┆ 2         │\n",
       "│ 2   ┆ time_offset ┆ uint32     ┆ true     ┆ … ┆ null       ┆ false      ┆ false      ┆ 2         │\n",
       "│ 4   ┆ time_mode   ┆ time_mode  ┆ true     ┆ … ┆ null       ┆ false      ┆ false      ┆ 2         │\n",
       "│ …   ┆ …           ┆ …          ┆ …        ┆ … ┆ …          ┆ …          ┆ …          ┆ …         │\n",
       "│ 94  ┆ number_of_s ┆ uint8      ┆ false    ┆ … ┆ null       ┆ false      ┆ false      ┆ 2         │\n",
       "│     ┆ creens      ┆            ┆          ┆   ┆            ┆            ┆            ┆           │\n",
       "│ 95  ┆ smart_notif ┆ display_or ┆ false    ┆ … ┆ null       ┆ false      ┆ false      ┆ 2         │\n",
       "│     ┆ ication_dis ┆ ientation  ┆          ┆   ┆            ┆            ┆            ┆           │\n",
       "│     ┆ play_orien… ┆            ┆          ┆   ┆            ┆            ┆            ┆           │\n",
       "│ 134 ┆ tap_interfa ┆ switch     ┆ false    ┆ … ┆ null       ┆ false      ┆ false      ┆ 2         │\n",
       "│     ┆ ce          ┆            ┆          ┆   ┆            ┆            ┆            ┆           │\n",
       "│ 174 ┆ tap_sensiti ┆ tap_sensit ┆ false    ┆ … ┆ null       ┆ false      ┆ false      ┆ 2         │\n",
       "│     ┆ vity        ┆ ivity      ┆          ┆   ┆            ┆            ┆            ┆           │\n",
       "└─────┴─────────────┴────────────┴──────────┴───┴────────────┴────────────┴────────────┴───────────┘"
      ]
     },
     "execution_count": 2,
     "metadata": {},
     "output_type": "execute_result"
    }
   ],
   "source": [
    "profile = FitDBProfile() \n",
    "profile.message_fields.df().filter(pl.col(\"message_num\") == 2)"
   ]
  },
  {
   "cell_type": "code",
   "execution_count": null,
   "metadata": {},
   "outputs": [],
   "source": []
  }
 ],
 "metadata": {
  "kernelspec": {
   "display_name": "fitdb",
   "language": "python",
   "name": "python3"
  },
  "language_info": {
   "codemirror_mode": {
    "name": "ipython",
    "version": 3
   },
   "file_extension": ".py",
   "mimetype": "text/x-python",
   "name": "python",
   "nbconvert_exporter": "python",
   "pygments_lexer": "ipython3",
   "version": "3.10.9"
  },
  "orig_nbformat": 4,
  "vscode": {
   "interpreter": {
    "hash": "c742c44fe583f8a9c65b637131200f541a3ede1cdd2c08e2647b16452fb90c77"
   }
  }
 },
 "nbformat": 4,
 "nbformat_minor": 2
}
